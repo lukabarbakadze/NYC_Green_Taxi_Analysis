{
 "cells": [
  {
   "attachments": {},
   "cell_type": "markdown",
   "metadata": {},
   "source": [
    "### imports"
   ]
  },
  {
   "cell_type": "code",
   "execution_count": 1,
   "metadata": {},
   "outputs": [],
   "source": [
    "import glob\n",
    "from shapely import wkt\n",
    "from joblib import dump\n",
    "from tqdm.notebook import tqdm\n",
    "\n",
    "import numpy as np\n",
    "import pandas as pd\n",
    "\n",
    "from sklearn.model_selection import train_test_split\n",
    "from sklearn.preprocessing import StandardScaler\n",
    "\n",
    "import torch\n",
    "from torch import nn\n",
    "import torch.nn.functional as F\n",
    "from torch.utils.data import Dataset, DataLoader\n",
    "\n",
    "import matplotlib.pyplot as plt \n",
    "import seaborn as sns\n",
    "sns.set_style(\"whitegrid\")"
   ]
  },
  {
   "attachments": {},
   "cell_type": "markdown",
   "metadata": {},
   "source": [
    "### Upload Data"
   ]
  },
  {
   "cell_type": "code",
   "execution_count": 2,
   "metadata": {},
   "outputs": [],
   "source": [
    "file_list = glob.glob(\"Data/raw_data/*.parquet\")\n",
    "df = pd.DataFrame(pd.read_parquet(file_list[0]))\n",
    "for i in range(1,len(file_list)):\n",
    "    new_df = pd.read_parquet(file_list[i])\n",
    "    df = pd.concat([df,new_df],axis=0)"
   ]
  },
  {
   "attachments": {},
   "cell_type": "markdown",
   "metadata": {},
   "source": [
    "### Data Cleaning"
   ]
  },
  {
   "attachments": {},
   "cell_type": "markdown",
   "metadata": {},
   "source": [
    "**Read Main Data**"
   ]
  },
  {
   "cell_type": "code",
   "execution_count": 3,
   "metadata": {},
   "outputs": [],
   "source": [
    "df.reset_index(drop=True, inplace=True)\n",
    "df.columns = df.columns.str.lower()"
   ]
  },
  {
   "attachments": {},
   "cell_type": "markdown",
   "metadata": {},
   "source": [
    "**Read Taxi Zones Lookup Tables**"
   ]
  },
  {
   "cell_type": "code",
   "execution_count": 4,
   "metadata": {},
   "outputs": [],
   "source": [
    "df_zone_coor = pd.read_csv(\"Data/taxi_zone_coordinates.csv\")\n",
    "df_zone_look = pd.read_csv(\"Data/taxi_zone_lookup.csv\")"
   ]
  },
  {
   "attachments": {},
   "cell_type": "markdown",
   "metadata": {},
   "source": [
    "**Check_Variable_Descriptions**"
   ]
  },
  {
   "cell_type": "code",
   "execution_count": 5,
   "metadata": {},
   "outputs": [],
   "source": [
    "variable_descriptions = {\n",
    "    \"vendorid\": \"1= Creative Mobile Technologies, LLC; 2= VeriFone Inc.\",\n",
    "    \"lpep_pickup_datetime\": \"The date and time when the meter was engaged.\",\n",
    "    \"lpep_dropoff_datetime\": \"The date and time when the meter was disengaged.\",\n",
    "    \"store_and_fwd_flag\": \"This flag indicates whether the trip record was held in vehicle memory before sending to the vendor, aka “store and forward,”Y= store and forward trip, N= not a store and forward trip.\",\n",
    "    \"ratecodeid\": \"The final rate code in effect at the end of the trip: 1= Standard rate, 2=JFK, 3=Newark, 4=Nassau or Westchester, 5=Negotiated fare, 6=Group ride.\",\n",
    "    \"pulocationid\": \"TLC Taxi Zone in which the taximeter was engaged.\",\n",
    "    \"dolocationid\": \"TLC Taxi Zone in which the taximeter was disengaged.\",\n",
    "    \"passenger_count\": \"The number of passengers in the vehicle (driver-entered value).\",\n",
    "    \"trip_distance\": \"The elapsed trip distance in miles reported by the taximeter.\",\n",
    "    \"fare_amount\": \"The time-and-distance fare calculated by the meter.\",\n",
    "    \"extra\": \"Miscellaneous extras and surcharges. Currently, this only includes the $0.50 and $1 rush hour and overnight charges.\",\n",
    "    \"mta_tax\": \"$0.50 MTA tax that is automatically triggered based on the metered rate in use.\",\n",
    "    \"tip_amount\": \"Tip amount – This field is automatically populated for credit card tips. Cash tips are not included.\",\n",
    "    \"tolls_amount\": \"Total amount of all tolls paid in trip\",\n",
    "    \"improvement_surcharge\": \"$0.30 improvement surcharge assessed on hailed trips at the flag drop. The improvement surcharge began being levied in 2015.\",\n",
    "    \"total_amount\": \"The total amount charged to passengers. Does not include cash tips\",\n",
    "    \"payment_type\": \"A numeric code signifying how the passenger paid for the trip: 1= Credit card, 2= Cash, 3= No charge, 4= Dispute, 5= Unknown, 6= Voided trip\",\n",
    "    \"trip_type\": \"A code indicating whether the trip was a street-hail or a dispatch that is automatically assigned based on the metered rate in use but can be altered by the driver: 1= Street-hail, 2= Dispatch\",\n",
    "    \"congestion_surcharge\": \"The surcharge is generally: $2.75 for each for-hire transportation trip in a vehicle that is not a medallion taxicab or a pool vehicle. $2.50 per trip when the transportation is provided by a medallion taxicab vehicle\",\n",
    "    \"Airport_fee\": \"$1.25 for pick up only at LaGuardia and John F. Kennedy Airports\"\n",
    "}"
   ]
  },
  {
   "cell_type": "code",
   "execution_count": 6,
   "metadata": {},
   "outputs": [
    {
     "data": {
      "text/html": [
       "<div>\n",
       "<style scoped>\n",
       "    .dataframe tbody tr th:only-of-type {\n",
       "        vertical-align: middle;\n",
       "    }\n",
       "\n",
       "    .dataframe tbody tr th {\n",
       "        vertical-align: top;\n",
       "    }\n",
       "\n",
       "    .dataframe thead th {\n",
       "        text-align: right;\n",
       "    }\n",
       "</style>\n",
       "<table border=\"1\" class=\"dataframe\">\n",
       "  <thead>\n",
       "    <tr style=\"text-align: right;\">\n",
       "      <th></th>\n",
       "      <th>Variable_description</th>\n",
       "    </tr>\n",
       "  </thead>\n",
       "  <tbody>\n",
       "    <tr>\n",
       "      <th>vendorid</th>\n",
       "      <td>1= Creative Mobile Technologies, LLC; 2= VeriFone Inc.</td>\n",
       "    </tr>\n",
       "    <tr>\n",
       "      <th>lpep_pickup_datetime</th>\n",
       "      <td>The date and time when the meter was engaged.</td>\n",
       "    </tr>\n",
       "    <tr>\n",
       "      <th>lpep_dropoff_datetime</th>\n",
       "      <td>The date and time when the meter was disengaged.</td>\n",
       "    </tr>\n",
       "    <tr>\n",
       "      <th>store_and_fwd_flag</th>\n",
       "      <td>This flag indicates whether the trip record was held in vehicle memory before sending to the vendor, aka “store and forward,”Y= store and forward trip, N= not a store and forward trip.</td>\n",
       "    </tr>\n",
       "    <tr>\n",
       "      <th>ratecodeid</th>\n",
       "      <td>The final rate code in effect at the end of the trip: 1= Standard rate, 2=JFK, 3=Newark, 4=Nassau or Westchester, 5=Negotiated fare, 6=Group ride.</td>\n",
       "    </tr>\n",
       "    <tr>\n",
       "      <th>pulocationid</th>\n",
       "      <td>TLC Taxi Zone in which the taximeter was engaged.</td>\n",
       "    </tr>\n",
       "    <tr>\n",
       "      <th>dolocationid</th>\n",
       "      <td>TLC Taxi Zone in which the taximeter was disengaged.</td>\n",
       "    </tr>\n",
       "    <tr>\n",
       "      <th>passenger_count</th>\n",
       "      <td>The number of passengers in the vehicle (driver-entered value).</td>\n",
       "    </tr>\n",
       "    <tr>\n",
       "      <th>trip_distance</th>\n",
       "      <td>The elapsed trip distance in miles reported by the taximeter.</td>\n",
       "    </tr>\n",
       "    <tr>\n",
       "      <th>fare_amount</th>\n",
       "      <td>The time-and-distance fare calculated by the meter.</td>\n",
       "    </tr>\n",
       "    <tr>\n",
       "      <th>extra</th>\n",
       "      <td>Miscellaneous extras and surcharges. Currently, this only includes the $0.50 and $1 rush hour and overnight charges.</td>\n",
       "    </tr>\n",
       "    <tr>\n",
       "      <th>mta_tax</th>\n",
       "      <td>$0.50 MTA tax that is automatically triggered based on the metered rate in use.</td>\n",
       "    </tr>\n",
       "    <tr>\n",
       "      <th>tip_amount</th>\n",
       "      <td>Tip amount – This field is automatically populated for credit card tips. Cash tips are not included.</td>\n",
       "    </tr>\n",
       "    <tr>\n",
       "      <th>tolls_amount</th>\n",
       "      <td>Total amount of all tolls paid in trip</td>\n",
       "    </tr>\n",
       "    <tr>\n",
       "      <th>improvement_surcharge</th>\n",
       "      <td>$0.30 improvement surcharge assessed on hailed trips at the flag drop. The improvement surcharge began being levied in 2015.</td>\n",
       "    </tr>\n",
       "    <tr>\n",
       "      <th>total_amount</th>\n",
       "      <td>The total amount charged to passengers. Does not include cash tips</td>\n",
       "    </tr>\n",
       "    <tr>\n",
       "      <th>payment_type</th>\n",
       "      <td>A numeric code signifying how the passenger paid for the trip: 1= Credit card, 2= Cash, 3= No charge, 4= Dispute, 5= Unknown, 6= Voided trip</td>\n",
       "    </tr>\n",
       "    <tr>\n",
       "      <th>trip_type</th>\n",
       "      <td>A code indicating whether the trip was a street-hail or a dispatch that is automatically assigned based on the metered rate in use but can be altered by the driver: 1= Street-hail, 2= Dispatch</td>\n",
       "    </tr>\n",
       "    <tr>\n",
       "      <th>congestion_surcharge</th>\n",
       "      <td>The surcharge is generally: $2.75 for each for-hire transportation trip in a vehicle that is not a medallion taxicab or a pool vehicle. $2.50 per trip when the transportation is provided by a medallion taxicab vehicle</td>\n",
       "    </tr>\n",
       "    <tr>\n",
       "      <th>Airport_fee</th>\n",
       "      <td>$1.25 for pick up only at LaGuardia and John F. Kennedy Airports</td>\n",
       "    </tr>\n",
       "  </tbody>\n",
       "</table>\n",
       "</div>"
      ],
      "text/plain": [
       "                                                                                                                                                                                                                            Variable_description\n",
       "vendorid                                                                                                                                                                                  1= Creative Mobile Technologies, LLC; 2= VeriFone Inc.\n",
       "lpep_pickup_datetime                                                                                                                                                                               The date and time when the meter was engaged.\n",
       "lpep_dropoff_datetime                                                                                                                                                                           The date and time when the meter was disengaged.\n",
       "store_and_fwd_flag                                      This flag indicates whether the trip record was held in vehicle memory before sending to the vendor, aka “store and forward,”Y= store and forward trip, N= not a store and forward trip.\n",
       "ratecodeid                                                                                    The final rate code in effect at the end of the trip: 1= Standard rate, 2=JFK, 3=Newark, 4=Nassau or Westchester, 5=Negotiated fare, 6=Group ride.\n",
       "pulocationid                                                                                                                                                                                   TLC Taxi Zone in which the taximeter was engaged.\n",
       "dolocationid                                                                                                                                                                                TLC Taxi Zone in which the taximeter was disengaged.\n",
       "passenger_count                                                                                                                                                                  The number of passengers in the vehicle (driver-entered value).\n",
       "trip_distance                                                                                                                                                                      The elapsed trip distance in miles reported by the taximeter.\n",
       "fare_amount                                                                                                                                                                                  The time-and-distance fare calculated by the meter.\n",
       "extra                                                                                                                       Miscellaneous extras and surcharges. Currently, this only includes the $0.50 and $1 rush hour and overnight charges.\n",
       "mta_tax                                                                                                                                                          $0.50 MTA tax that is automatically triggered based on the metered rate in use.\n",
       "tip_amount                                                                                                                                  Tip amount – This field is automatically populated for credit card tips. Cash tips are not included.\n",
       "tolls_amount                                                                                                                                                                                              Total amount of all tolls paid in trip\n",
       "improvement_surcharge                                                                                               $0.30 improvement surcharge assessed on hailed trips at the flag drop. The improvement surcharge began being levied in 2015.\n",
       "total_amount                                                                                                                                                                  The total amount charged to passengers. Does not include cash tips\n",
       "payment_type                                                                                        A numeric code signifying how the passenger paid for the trip: 1= Credit card, 2= Cash, 3= No charge, 4= Dispute, 5= Unknown, 6= Voided trip\n",
       "trip_type                                       A code indicating whether the trip was a street-hail or a dispatch that is automatically assigned based on the metered rate in use but can be altered by the driver: 1= Street-hail, 2= Dispatch\n",
       "congestion_surcharge   The surcharge is generally: $2.75 for each for-hire transportation trip in a vehicle that is not a medallion taxicab or a pool vehicle. $2.50 per trip when the transportation is provided by a medallion taxicab vehicle\n",
       "Airport_fee                                                                                                                                                                     $1.25 for pick up only at LaGuardia and John F. Kennedy Airports"
      ]
     },
     "metadata": {},
     "output_type": "display_data"
    }
   ],
   "source": [
    "df_column_description = pd.DataFrame(variable_descriptions, index=[\"Variable_description\"]).T\n",
    "with pd.option_context('display.max_colwidth', None):\n",
    "  display(df_column_description)"
   ]
  },
  {
   "attachments": {},
   "cell_type": "markdown",
   "metadata": {},
   "source": [
    "**Missin Values**"
   ]
  },
  {
   "cell_type": "code",
   "execution_count": 7,
   "metadata": {},
   "outputs": [
    {
     "name": "stdout",
     "output_type": "stream",
     "text": [
      "Dataframe Dimensions: (767963, 20)\n"
     ]
    }
   ],
   "source": [
    "print(f\"Dataframe Dimensions: {df.shape}\")"
   ]
  },
  {
   "cell_type": "code",
   "execution_count": 8,
   "metadata": {},
   "outputs": [
    {
     "data": {
      "text/plain": [
       "vendorid                      0\n",
       "lpep_pickup_datetime          0\n",
       "lpep_dropoff_datetime         0\n",
       "store_and_fwd_flag        83265\n",
       "ratecodeid                83265\n",
       "pulocationid                  0\n",
       "dolocationid                  0\n",
       "passenger_count           83265\n",
       "trip_distance                 0\n",
       "fare_amount                   0\n",
       "extra                         0\n",
       "mta_tax                       0\n",
       "tip_amount                    0\n",
       "tolls_amount                  0\n",
       "ehail_fee                767963\n",
       "improvement_surcharge         0\n",
       "total_amount                  0\n",
       "payment_type              83265\n",
       "trip_type                 83273\n",
       "congestion_surcharge      83265\n",
       "dtype: int64"
      ]
     },
     "execution_count": 8,
     "metadata": {},
     "output_type": "execute_result"
    }
   ],
   "source": [
    "df.isnull().sum()"
   ]
  },
  {
   "attachments": {},
   "cell_type": "markdown",
   "metadata": {},
   "source": [
    "* All values in column \"ehail_fee\" are missing\n",
    "* There are 6 columns with around 83,265 missing values, so these records might be related: if one value is missing in a record, there might be high chance that other 6 problematic variable will be missing too."
   ]
  },
  {
   "attachments": {},
   "cell_type": "markdown",
   "metadata": {},
   "source": [
    "**VendorID**"
   ]
  },
  {
   "cell_type": "code",
   "execution_count": 9,
   "metadata": {},
   "outputs": [
    {
     "data": {
      "text/plain": [
       "2    658624\n",
       "1    109332\n",
       "5         7\n",
       "Name: vendorid, dtype: int64"
      ]
     },
     "execution_count": 9,
     "metadata": {},
     "output_type": "execute_result"
    }
   ],
   "source": [
    "df.vendorid.value_counts()"
   ]
  },
  {
   "attachments": {},
   "cell_type": "markdown",
   "metadata": {},
   "source": [
    "* According to Datasource, we should have value 1 or 2 in this column, so dropping these 7 observations should be appropriate choice."
   ]
  },
  {
   "attachments": {},
   "cell_type": "markdown",
   "metadata": {},
   "source": [
    "**store_and_fwd_flag**"
   ]
  },
  {
   "cell_type": "code",
   "execution_count": 10,
   "metadata": {},
   "outputs": [
    {
     "data": {
      "text/plain": [
       "N    678150\n",
       "Y      6548\n",
       "Name: store_and_fwd_flag, dtype: int64"
      ]
     },
     "execution_count": 10,
     "metadata": {},
     "output_type": "execute_result"
    }
   ],
   "source": [
    "df.store_and_fwd_flag.value_counts()"
   ]
  },
  {
   "attachments": {},
   "cell_type": "markdown",
   "metadata": {},
   "source": [
    "* Seems \"not a store and forward trip\" class dominates"
   ]
  },
  {
   "attachments": {},
   "cell_type": "markdown",
   "metadata": {},
   "source": [
    "**ratecodeid**"
   ]
  },
  {
   "cell_type": "code",
   "execution_count": 11,
   "metadata": {},
   "outputs": [
    {
     "data": {
      "text/plain": [
       "1.0     643446\n",
       "5.0      37305\n",
       "2.0       2714\n",
       "4.0        715\n",
       "3.0        503\n",
       "99.0         8\n",
       "6.0          7\n",
       "Name: ratecodeid, dtype: int64"
      ]
     },
     "execution_count": 11,
     "metadata": {},
     "output_type": "execute_result"
    }
   ],
   "source": [
    "df.ratecodeid.value_counts()"
   ]
  },
  {
   "attachments": {},
   "cell_type": "markdown",
   "metadata": {},
   "source": [
    "* Maximum is 6, so we should drop there 8 records with value \"99\""
   ]
  },
  {
   "attachments": {},
   "cell_type": "markdown",
   "metadata": {},
   "source": [
    "**pulocationid** & **dolocationid**"
   ]
  },
  {
   "cell_type": "code",
   "execution_count": 12,
   "metadata": {},
   "outputs": [
    {
     "name": "stdout",
     "output_type": "stream",
     "text": [
      "Minimum index of Zone in lookup table: 1, Maximum: 265\n",
      "Minimum index of Zone main dataframe (pulocationid): 1, Maximum: 265\n",
      "Minimum index of Zone main dataframe (dolocationid): 1, Maximum: 265\n"
     ]
    }
   ],
   "source": [
    "print(f\"Minimum index of Zone in lookup table: {df_zone_look.LocationID.min()}, Maximum: {df_zone_look.LocationID.max()}\")\n",
    "print(f\"Minimum index of Zone main dataframe (pulocationid): {df.pulocationid.min()}, Maximum: {df.pulocationid.max()}\")\n",
    "print(f\"Minimum index of Zone main dataframe (dolocationid): {df.dolocationid.min()}, Maximum: {df.dolocationid.max()}\")"
   ]
  },
  {
   "attachments": {},
   "cell_type": "markdown",
   "metadata": {},
   "source": [
    "* Seems there are no numerical errors in these columns\n",
    "* Although there is one issue: there are no information about 264 & 265 sectors in lookup table, seems it's newly added zones. duo to lack of information, let's remove observations assocciated with these zones from our dataset"
   ]
  },
  {
   "attachments": {},
   "cell_type": "markdown",
   "metadata": {},
   "source": [
    "**passenger_count**"
   ]
  },
  {
   "cell_type": "code",
   "execution_count": 13,
   "metadata": {},
   "outputs": [
    {
     "data": {
      "text/plain": [
       "1.0    585786\n",
       "2.0     58042\n",
       "5.0     13929\n",
       "6.0     10851\n",
       "3.0      9801\n",
       "0.0      3117\n",
       "4.0      2987\n",
       "8.0        91\n",
       "7.0        64\n",
       "9.0        30\n",
       "Name: passenger_count, dtype: int64"
      ]
     },
     "execution_count": 13,
     "metadata": {},
     "output_type": "execute_result"
    }
   ],
   "source": [
    "df.passenger_count.value_counts()"
   ]
  },
  {
   "attachments": {},
   "cell_type": "markdown",
   "metadata": {},
   "source": [
    "* According to law, 6 is maximum number of passengers (four adult with less than 7 years 2 child), so probably removing observations with values 7, 8 and 9 should be appropriate choice."
   ]
  },
  {
   "attachments": {},
   "cell_type": "markdown",
   "metadata": {},
   "source": [
    "**pickup_datetime** & **dropoff_datetime**"
   ]
  },
  {
   "cell_type": "code",
   "execution_count": 14,
   "metadata": {},
   "outputs": [],
   "source": [
    "# firstly let's generate new variable which shows trip time \n",
    "df[\"trip_time\"] = round((df.lpep_dropoff_datetime - df.lpep_pickup_datetime).dt.seconds / 60, 2)"
   ]
  },
  {
   "cell_type": "code",
   "execution_count": 15,
   "metadata": {},
   "outputs": [
    {
     "data": {
      "text/plain": [
       "(3453, 21)"
      ]
     },
     "execution_count": 15,
     "metadata": {},
     "output_type": "execute_result"
    }
   ],
   "source": [
    "# according to NYC Taxi law, passenger have to pay 30$ to driver to wait 1 hour, so minimum 1 hour driving fee should be 32.5 (2.5 is fixed)\n",
    "# check how many observations satisfies these conditions\n",
    "df[(df.trip_time>60) & (df.fare_amount<32.5)].shape"
   ]
  },
  {
   "cell_type": "code",
   "execution_count": 16,
   "metadata": {},
   "outputs": [
    {
     "data": {
      "text/plain": [
       "(1408, 21)"
      ]
     },
     "execution_count": 16,
     "metadata": {},
     "output_type": "execute_result"
    }
   ],
   "source": [
    "# now lets check trips with 0 time\n",
    "df[df.trip_time==0].shape"
   ]
  },
  {
   "cell_type": "code",
   "execution_count": 17,
   "metadata": {},
   "outputs": [
    {
     "name": "stdout",
     "output_type": "stream",
     "text": [
      "Number of observations from other years: 10\n",
      "Number of observations from december: 20\n"
     ]
    }
   ],
   "source": [
    "# lets also check is all observations are from 2022 (there should not be any value from december 2022 too)\n",
    "print(f\"Number of observations from other years: {df[df.lpep_pickup_datetime.dt.year != 2022].shape[0]}\")\n",
    "print(f\"Number of observations from december: {df[df.lpep_pickup_datetime.dt.month == 12].shape[0]}\")"
   ]
  },
  {
   "attachments": {},
   "cell_type": "markdown",
   "metadata": {},
   "source": [
    "* With regard to maximum trip time, I think it would be appropriate if I remove observations which satisfies following criterias: trip_time>60 and fare_amount<32.5 (these observations seems to be too unrealistic)\n",
    "* I will remove observations with 0 trip_time (there are values where trip time is in (0,5) interval but I will deal with them later after calculating speed feature)\n",
    "* We should also remove 22 observations which are not in our time range"
   ]
  },
  {
   "attachments": {},
   "cell_type": "markdown",
   "metadata": {},
   "source": [
    "**Trip_Distance**"
   ]
  },
  {
   "cell_type": "code",
   "execution_count": 18,
   "metadata": {},
   "outputs": [
    {
     "data": {
      "text/html": [
       "<div>\n",
       "<style scoped>\n",
       "    .dataframe tbody tr th:only-of-type {\n",
       "        vertical-align: middle;\n",
       "    }\n",
       "\n",
       "    .dataframe tbody tr th {\n",
       "        vertical-align: top;\n",
       "    }\n",
       "\n",
       "    .dataframe thead th {\n",
       "        text-align: right;\n",
       "    }\n",
       "</style>\n",
       "<table border=\"1\" class=\"dataframe\">\n",
       "  <thead>\n",
       "    <tr style=\"text-align: right;\">\n",
       "      <th></th>\n",
       "      <th>trip_distance</th>\n",
       "    </tr>\n",
       "  </thead>\n",
       "  <tbody>\n",
       "    <tr>\n",
       "      <th>count</th>\n",
       "      <td>767963.000000</td>\n",
       "    </tr>\n",
       "    <tr>\n",
       "      <th>mean</th>\n",
       "      <td>88.613913</td>\n",
       "    </tr>\n",
       "    <tr>\n",
       "      <th>std</th>\n",
       "      <td>3336.775051</td>\n",
       "    </tr>\n",
       "    <tr>\n",
       "      <th>min</th>\n",
       "      <td>0.000000</td>\n",
       "    </tr>\n",
       "    <tr>\n",
       "      <th>25%</th>\n",
       "      <td>1.160000</td>\n",
       "    </tr>\n",
       "    <tr>\n",
       "      <th>50%</th>\n",
       "      <td>2.030000</td>\n",
       "    </tr>\n",
       "    <tr>\n",
       "      <th>75%</th>\n",
       "      <td>3.800000</td>\n",
       "    </tr>\n",
       "    <tr>\n",
       "      <th>max</th>\n",
       "      <td>360068.140000</td>\n",
       "    </tr>\n",
       "  </tbody>\n",
       "</table>\n",
       "</div>"
      ],
      "text/plain": [
       "       trip_distance\n",
       "count  767963.000000\n",
       "mean       88.613913\n",
       "std      3336.775051\n",
       "min         0.000000\n",
       "25%         1.160000\n",
       "50%         2.030000\n",
       "75%         3.800000\n",
       "max    360068.140000"
      ]
     },
     "execution_count": 18,
     "metadata": {},
     "output_type": "execute_result"
    }
   ],
   "source": [
    "df[[\"trip_distance\"]].describe()"
   ]
  },
  {
   "attachments": {},
   "cell_type": "markdown",
   "metadata": {},
   "source": [
    "* Seems there are many outliers as sample mean is 88 mile (abnormally high) and standard diviation 3336 (hipothetical for tax trips...)"
   ]
  },
  {
   "cell_type": "code",
   "execution_count": 19,
   "metadata": {},
   "outputs": [
    {
     "name": "stdout",
     "output_type": "stream",
     "text": [
      "99 percentile of variable trip_distance: 17.73\n"
     ]
    }
   ],
   "source": [
    "# firstly lets check upper bound values\n",
    "print(f\"99 percentile of variable trip_distance: {df.trip_distance.quantile(0.99)}\")"
   ]
  },
  {
   "cell_type": "code",
   "execution_count": 20,
   "metadata": {},
   "outputs": [
    {
     "data": {
      "text/plain": [
       "count    767193.000000\n",
       "mean          3.156786\n",
       "std          13.990374\n",
       "min           0.000000\n",
       "0.1%          0.000000\n",
       "25%           1.160000\n",
       "50%           2.030000\n",
       "75%           3.790000\n",
       "99.9%        29.182320\n",
       "max        4667.780000\n",
       "Name: trip_distance, dtype: float64"
      ]
     },
     "execution_count": 20,
     "metadata": {},
     "output_type": "execute_result"
    }
   ],
   "source": [
    "df[df.trip_distance<5000].trip_distance.describe(percentiles=[.001,0.25, 0.5, 0.75, 0.999])"
   ]
  },
  {
   "cell_type": "code",
   "execution_count": 21,
   "metadata": {},
   "outputs": [
    {
     "name": "stdout",
     "output_type": "stream",
     "text": [
      "(1538, 21)\n"
     ]
    },
    {
     "data": {
      "text/plain": [
       "vendorid                    0\n",
       "lpep_pickup_datetime        0\n",
       "lpep_dropoff_datetime       0\n",
       "store_and_fwd_flag        875\n",
       "ratecodeid                875\n",
       "pulocationid                0\n",
       "dolocationid                0\n",
       "passenger_count           875\n",
       "trip_distance               0\n",
       "fare_amount                 0\n",
       "extra                       0\n",
       "mta_tax                     0\n",
       "tip_amount                  0\n",
       "tolls_amount                0\n",
       "ehail_fee                1538\n",
       "improvement_surcharge       0\n",
       "total_amount                0\n",
       "payment_type              875\n",
       "trip_type                 875\n",
       "congestion_surcharge      875\n",
       "trip_time                   0\n",
       "dtype: int64"
      ]
     },
     "execution_count": 21,
     "metadata": {},
     "output_type": "execute_result"
    }
   ],
   "source": [
    "# check distribution of missing values in 0.1% critical area\n",
    "print(df[df.trip_distance>29.182320].shape)\n",
    "df[df.trip_distance>29.182320].isnull().sum()"
   ]
  },
  {
   "attachments": {},
   "cell_type": "markdown",
   "metadata": {},
   "source": [
    "* Seems more than half of the observations in 0.1% critical area have 6-7 mising value, dropping them should be right choise (in more naive approach, dropping 99th percentile should be okay but firtly let's be more carefull and if needed then try this approach)"
   ]
  },
  {
   "cell_type": "code",
   "execution_count": 22,
   "metadata": {},
   "outputs": [
    {
     "name": "stdout",
     "output_type": "stream",
     "text": [
      "Number of observations with trip_distance equals to 0: 45447\n"
     ]
    }
   ],
   "source": [
    "# now lets look lower bound (observations where trip distance is zero)\n",
    "print(f\"Number of observations with trip_distance equals to 0: {df[df.trip_distance==0].shape[0]}\")"
   ]
  },
  {
   "cell_type": "code",
   "execution_count": 23,
   "metadata": {},
   "outputs": [
    {
     "data": {
      "text/plain": [
       "1.0    0.626194\n",
       "2.0    0.368483\n",
       "3.0    0.003959\n",
       "4.0    0.001355\n",
       "5.0    0.000009\n",
       "Name: payment_type, dtype: float64"
      ]
     },
     "execution_count": 23,
     "metadata": {},
     "output_type": "execute_result"
    }
   ],
   "source": [
    "# seems there are too many values with trip_distance=0 value. let's check if it these observations are link to payment_type\n",
    "df[df.trip_distance!=0].payment_type.value_counts(normalize=True)"
   ]
  },
  {
   "cell_type": "code",
   "execution_count": 24,
   "metadata": {},
   "outputs": [
    {
     "data": {
      "text/plain": [
       "1.0    0.787089\n",
       "2.0    0.182039\n",
       "3.0    0.026656\n",
       "4.0    0.004125\n",
       "5.0    0.000091\n",
       "Name: payment_type, dtype: float64"
      ]
     },
     "execution_count": 24,
     "metadata": {},
     "output_type": "execute_result"
    }
   ],
   "source": [
    "df[df.trip_distance==0].payment_type.value_counts(normalize=True)"
   ]
  },
  {
   "attachments": {},
   "cell_type": "markdown",
   "metadata": {},
   "source": [
    "* Distributions with these two subset of data are not completely different but as excpected there is high percentage of payment_type classes ('No charge','Dispute','Unknown') when trip_distance=0.\n",
    "* I think dropping variables with condition (trip_distance=0 and payment_type=1) should be good choice as trips with 0 distance is not logical and seems some kind of mistake;"
   ]
  },
  {
   "attachments": {},
   "cell_type": "markdown",
   "metadata": {},
   "source": [
    "**Payment_Type**"
   ]
  },
  {
   "cell_type": "code",
   "execution_count": 25,
   "metadata": {},
   "outputs": [
    {
     "data": {
      "text/plain": [
       "1.0    435852\n",
       "2.0    244074\n",
       "3.0      3712\n",
       "4.0      1050\n",
       "5.0        10\n",
       "Name: payment_type, dtype: int64"
      ]
     },
     "execution_count": 25,
     "metadata": {},
     "output_type": "execute_result"
    }
   ],
   "source": [
    "df.payment_type.value_counts()"
   ]
  },
  {
   "attachments": {},
   "cell_type": "markdown",
   "metadata": {},
   "source": [
    "* There are 2 dominant class: payment with credit card and with cash."
   ]
  },
  {
   "attachments": {},
   "cell_type": "markdown",
   "metadata": {},
   "source": [
    "**Trip_Type**"
   ]
  },
  {
   "cell_type": "code",
   "execution_count": 26,
   "metadata": {},
   "outputs": [
    {
     "data": {
      "text/plain": [
       "1.0    0.95159\n",
       "2.0    0.04841\n",
       "Name: trip_type, dtype: float64"
      ]
     },
     "execution_count": 26,
     "metadata": {},
     "output_type": "execute_result"
    }
   ],
   "source": [
    "df.trip_type.value_counts(normalize=True)"
   ]
  },
  {
   "attachments": {},
   "cell_type": "markdown",
   "metadata": {},
   "source": [
    "* Street-hail trips represent 95% of observations (only 5% belongs dispatch street_type class) "
   ]
  },
  {
   "attachments": {},
   "cell_type": "markdown",
   "metadata": {},
   "source": [
    "**Airport_Fee**"
   ]
  },
  {
   "attachments": {},
   "cell_type": "markdown",
   "metadata": {},
   "source": [
    "Even through in dataset Airport_fee column is missing, it's described in lookup table: it says, fee increases by 1.25$ when taxi pickups passenger from LaGuardia or John F.Kennedy Airports. Let's see if there are separate taxi zones for these airports."
   ]
  },
  {
   "cell_type": "code",
   "execution_count": 27,
   "metadata": {},
   "outputs": [
    {
     "data": {
      "text/html": [
       "<div>\n",
       "<style scoped>\n",
       "    .dataframe tbody tr th:only-of-type {\n",
       "        vertical-align: middle;\n",
       "    }\n",
       "\n",
       "    .dataframe tbody tr th {\n",
       "        vertical-align: top;\n",
       "    }\n",
       "\n",
       "    .dataframe thead th {\n",
       "        text-align: right;\n",
       "    }\n",
       "</style>\n",
       "<table border=\"1\" class=\"dataframe\">\n",
       "  <thead>\n",
       "    <tr style=\"text-align: right;\">\n",
       "      <th></th>\n",
       "      <th>LocationID</th>\n",
       "      <th>Borough</th>\n",
       "      <th>Zone</th>\n",
       "      <th>service_zone</th>\n",
       "    </tr>\n",
       "  </thead>\n",
       "  <tbody>\n",
       "    <tr>\n",
       "      <th>131</th>\n",
       "      <td>132</td>\n",
       "      <td>Queens</td>\n",
       "      <td>JFK Airport</td>\n",
       "      <td>Airports</td>\n",
       "    </tr>\n",
       "    <tr>\n",
       "      <th>137</th>\n",
       "      <td>138</td>\n",
       "      <td>Queens</td>\n",
       "      <td>LaGuardia Airport</td>\n",
       "      <td>Airports</td>\n",
       "    </tr>\n",
       "  </tbody>\n",
       "</table>\n",
       "</div>"
      ],
      "text/plain": [
       "     LocationID Borough               Zone service_zone\n",
       "131         132  Queens        JFK Airport     Airports\n",
       "137         138  Queens  LaGuardia Airport     Airports"
      ]
     },
     "execution_count": 27,
     "metadata": {},
     "output_type": "execute_result"
    }
   ],
   "source": [
    "df_zone_look[(df_zone_look.Zone == \"LaGuardia Airport\") | (df_zone_look.Zone == \"JFK Airport\")]"
   ]
  },
  {
   "cell_type": "code",
   "execution_count": 28,
   "metadata": {},
   "outputs": [
    {
     "name": "stdout",
     "output_type": "stream",
     "text": [
      "Number of observations with JFK Airport pickup locaiton: 554\n",
      "Number of observations with LaGuardia Airport pickup locaiton: 543\n"
     ]
    }
   ],
   "source": [
    "print(f\"Number of observations with JFK Airport pickup locaiton: {df[df.pulocationid==132].shape[0]}\")\n",
    "print(f\"Number of observations with LaGuardia Airport pickup locaiton: {df[df.pulocationid==138].shape[0]}\")"
   ]
  },
  {
   "attachments": {},
   "cell_type": "markdown",
   "metadata": {},
   "source": [
    "* Seems there are not many observations with Airport pickup location but I think creating new column \"airport fee\" which will have value 0 everywhere except Pulocationid equals 132 or 138 (airport taxi zones) could be good idea in feature engineering part (this could help model to distinguish\n",
    "airport trips)."
   ]
  },
  {
   "attachments": {},
   "cell_type": "markdown",
   "metadata": {},
   "source": [
    "**Fare_Amount**"
   ]
  },
  {
   "cell_type": "code",
   "execution_count": 29,
   "metadata": {},
   "outputs": [
    {
     "data": {
      "text/html": [
       "<div>\n",
       "<style scoped>\n",
       "    .dataframe tbody tr th:only-of-type {\n",
       "        vertical-align: middle;\n",
       "    }\n",
       "\n",
       "    .dataframe tbody tr th {\n",
       "        vertical-align: top;\n",
       "    }\n",
       "\n",
       "    .dataframe thead th {\n",
       "        text-align: right;\n",
       "    }\n",
       "</style>\n",
       "<table border=\"1\" class=\"dataframe\">\n",
       "  <thead>\n",
       "    <tr style=\"text-align: right;\">\n",
       "      <th></th>\n",
       "      <th>fare_amount</th>\n",
       "    </tr>\n",
       "  </thead>\n",
       "  <tbody>\n",
       "    <tr>\n",
       "      <th>count</th>\n",
       "      <td>767963.000000</td>\n",
       "    </tr>\n",
       "    <tr>\n",
       "      <th>mean</th>\n",
       "      <td>15.175225</td>\n",
       "    </tr>\n",
       "    <tr>\n",
       "      <th>std</th>\n",
       "      <td>14.822908</td>\n",
       "    </tr>\n",
       "    <tr>\n",
       "      <th>min</th>\n",
       "      <td>-350.080000</td>\n",
       "    </tr>\n",
       "    <tr>\n",
       "      <th>0.1%</th>\n",
       "      <td>-3.000000</td>\n",
       "    </tr>\n",
       "    <tr>\n",
       "      <th>25%</th>\n",
       "      <td>7.500000</td>\n",
       "    </tr>\n",
       "    <tr>\n",
       "      <th>50%</th>\n",
       "      <td>11.000000</td>\n",
       "    </tr>\n",
       "    <tr>\n",
       "      <th>75%</th>\n",
       "      <td>18.000000</td>\n",
       "    </tr>\n",
       "    <tr>\n",
       "      <th>99.9%</th>\n",
       "      <td>150.000000</td>\n",
       "    </tr>\n",
       "    <tr>\n",
       "      <th>max</th>\n",
       "      <td>2020.200000</td>\n",
       "    </tr>\n",
       "  </tbody>\n",
       "</table>\n",
       "</div>"
      ],
      "text/plain": [
       "         fare_amount\n",
       "count  767963.000000\n",
       "mean       15.175225\n",
       "std        14.822908\n",
       "min      -350.080000\n",
       "0.1%       -3.000000\n",
       "25%         7.500000\n",
       "50%        11.000000\n",
       "75%        18.000000\n",
       "99.9%     150.000000\n",
       "max      2020.200000"
      ]
     },
     "execution_count": 29,
     "metadata": {},
     "output_type": "execute_result"
    }
   ],
   "source": [
    "df[[\"fare_amount\"]].describe(percentiles=[.001,0.25, 0.5, 0.75, 0.999])"
   ]
  },
  {
   "cell_type": "code",
   "execution_count": 30,
   "metadata": {},
   "outputs": [
    {
     "data": {
      "text/plain": [
       "3.0    1806\n",
       "1.0     758\n",
       "2.0     668\n",
       "4.0     360\n",
       "Name: payment_type, dtype: int64"
      ]
     },
     "execution_count": 30,
     "metadata": {},
     "output_type": "execute_result"
    }
   ],
   "source": [
    "# firstly lets analyze lower bound\n",
    "# check payment_type distributions with fare_amount lower than 2.5 (minimum accordng to NYC law)\n",
    "df[df.fare_amount<2.5].payment_type.value_counts()"
   ]
  },
  {
   "cell_type": "code",
   "execution_count": 31,
   "metadata": {},
   "outputs": [
    {
     "name": "stdout",
     "output_type": "stream",
     "text": [
      "Number of observations with negative fare amount: 1944\n"
     ]
    },
    {
     "data": {
      "text/plain": [
       "3.0    1547\n",
       "4.0     337\n",
       "1.0       1\n",
       "Name: payment_type, dtype: int64"
      ]
     },
     "execution_count": 31,
     "metadata": {},
     "output_type": "execute_result"
    }
   ],
   "source": [
    "print(f\"Number of observations with negative fare amount: {df[df.fare_amount<0].shape[0]}\")\n",
    "df[df.fare_amount<0].payment_type.value_counts()"
   ]
  },
  {
   "cell_type": "code",
   "execution_count": 32,
   "metadata": {},
   "outputs": [
    {
     "name": "stdout",
     "output_type": "stream",
     "text": [
      "Number of observation in 99.9 percentile of variable trip_distance: 880\n"
     ]
    }
   ],
   "source": [
    "# now let's look upper bound\n",
    "print(f\"Number of observation in 99.9 percentile of variable trip_distance: {df[df.fare_amount>=df.fare_amount.quantile(0.999)].shape[0]}\")"
   ]
  },
  {
   "attachments": {},
   "cell_type": "markdown",
   "metadata": {},
   "source": [
    "* For lower bound, we have about 3700 observations with less than 2.5 fare amount but about 2100 are in \"No charge\" or \"Dispute\" classes (payment_type classes); mostly the reasons could be that passenger did not payed fee and that caused driver to record negative fee. In our analysis, I think dropping these observations should be fine.\n",
    "* For upper bound, I'll remove 0.1% of observations which gives 150 as maximum value"
   ]
  },
  {
   "attachments": {},
   "cell_type": "markdown",
   "metadata": {},
   "source": [
    "**Cleaning Pipeline I** "
   ]
  },
  {
   "cell_type": "code",
   "execution_count": 33,
   "metadata": {},
   "outputs": [
    {
     "data": {
      "text/plain": [
       "Index(['vendorid', 'lpep_pickup_datetime', 'lpep_dropoff_datetime',\n",
       "       'store_and_fwd_flag', 'ratecodeid', 'pulocationid', 'dolocationid',\n",
       "       'passenger_count', 'trip_distance', 'fare_amount', 'extra', 'mta_tax',\n",
       "       'tip_amount', 'tolls_amount', 'ehail_fee', 'improvement_surcharge',\n",
       "       'total_amount', 'payment_type', 'trip_type', 'congestion_surcharge',\n",
       "       'trip_time'],\n",
       "      dtype='object')"
      ]
     },
     "execution_count": 33,
     "metadata": {},
     "output_type": "execute_result"
    }
   ],
   "source": [
    "df.columns"
   ]
  },
  {
   "cell_type": "code",
   "execution_count": 34,
   "metadata": {},
   "outputs": [],
   "source": [
    "def data_cleaner_1(df):\n",
    "    # drop ehail_fee columns\n",
    "    df.drop([\"ehail_fee\"], axis=1, inplace=True) \n",
    "    # vendorid\n",
    "    df = df.loc[df.vendorid != 5]\n",
    "    # ratecodeid\n",
    "    df = df.loc[df.ratecodeid != 99.0]\n",
    "    # clean pickup-dropoff location columns\n",
    "    df = df.loc[~((df.pulocationid==264)|(df.pulocationid==265)|(df.dolocationid==264)|(df.dolocationid==265))]\n",
    "    # passenger_count\n",
    "    df = df.loc[(df.passenger_count!=7)&(df.passenger_count!=8)&(df.passenger_count!=9)]\n",
    "    # trip_time\n",
    "    df = df.loc[~((df.trip_time>60) & (df.fare_amount<32.5))]\n",
    "    df = df.loc[df.trip_time > 0]\n",
    "    df = df[~(df.lpep_pickup_datetime.dt.year != 2022)]\n",
    "    df = df[~(df.lpep_pickup_datetime.dt.month == 12)]\n",
    "    # trip_distance\n",
    "    df = df.loc[df.trip_distance<29.182320]\n",
    "    df = df.loc[~((df.trip_distance==0) & (df.payment_type==1))]\n",
    "    # fare_amount\n",
    "    df = df.loc[~(df.fare_amount < 2.5)]\n",
    "    df = df.loc[df.fare_amount < df.fare_amount.quantile(0.999)]\n",
    "\n",
    "    return df"
   ]
  },
  {
   "cell_type": "code",
   "execution_count": 35,
   "metadata": {},
   "outputs": [],
   "source": [
    "old_df_rows = df.shape[0]\n",
    "df = data_cleaner_1(df)"
   ]
  },
  {
   "cell_type": "code",
   "execution_count": 36,
   "metadata": {},
   "outputs": [
    {
     "name": "stdout",
     "output_type": "stream",
     "text": [
      "After first part of data cleaning we lost: 6.52% observations\n"
     ]
    }
   ],
   "source": [
    "print(f\"After first part of data cleaning we lost: {round(100-df.shape[0]/old_df_rows * 100,2)}% observations\")"
   ]
  },
  {
   "attachments": {},
   "cell_type": "markdown",
   "metadata": {},
   "source": [
    "**Missing Values**"
   ]
  },
  {
   "cell_type": "code",
   "execution_count": 37,
   "metadata": {},
   "outputs": [
    {
     "data": {
      "text/plain": [
       "vendorid                  0.0\n",
       "lpep_pickup_datetime      0.0\n",
       "lpep_dropoff_datetime     0.0\n",
       "store_and_fwd_flag       11.0\n",
       "ratecodeid               11.0\n",
       "pulocationid              0.0\n",
       "dolocationid              0.0\n",
       "passenger_count          11.0\n",
       "trip_distance             0.0\n",
       "fare_amount               0.0\n",
       "extra                     0.0\n",
       "mta_tax                   0.0\n",
       "tip_amount                0.0\n",
       "tolls_amount              0.0\n",
       "improvement_surcharge     0.0\n",
       "total_amount              0.0\n",
       "payment_type             11.0\n",
       "trip_type                11.0\n",
       "congestion_surcharge     11.0\n",
       "trip_time                 0.0\n",
       "dtype: float64"
      ]
     },
     "execution_count": 37,
     "metadata": {},
     "output_type": "execute_result"
    }
   ],
   "source": [
    "round(df.isnull().sum()/df.shape[0],2) * 100"
   ]
  },
  {
   "attachments": {},
   "cell_type": "markdown",
   "metadata": {},
   "source": [
    "* As missing values are linked, firstly let's try dropping them (in any case still have ~80% of dataset for modeling)\n",
    "* Firstly lets use remaining 80% for Machine Learning and if needed then clean/add these observations to the dataset"
   ]
  },
  {
   "cell_type": "code",
   "execution_count": 38,
   "metadata": {},
   "outputs": [],
   "source": [
    "df = df.dropna()"
   ]
  },
  {
   "attachments": {},
   "cell_type": "markdown",
   "metadata": {},
   "source": [
    "#### Feature Engineering I"
   ]
  },
  {
   "attachments": {},
   "cell_type": "markdown",
   "metadata": {},
   "source": [
    "**Plan**\n",
    "* Extract usefull information from datetime column\n",
    "* Add appropriate \"Name\" columns\n",
    "* Extract longitude & latitude of borders of taxi zones and calculate center of the zone (instead of creating approximately 500 dummy variables, I think adding longitude & latitude coordinates of zone centers should be better idea)\n",
    "* Create columns which separates airport trips to others"
   ]
  },
  {
   "cell_type": "code",
   "execution_count": 39,
   "metadata": {},
   "outputs": [
    {
     "data": {
      "text/plain": [
       "Index(['vendorid', 'lpep_pickup_datetime', 'lpep_dropoff_datetime',\n",
       "       'store_and_fwd_flag', 'ratecodeid', 'pulocationid', 'dolocationid',\n",
       "       'passenger_count', 'trip_distance', 'fare_amount', 'extra', 'mta_tax',\n",
       "       'tip_amount', 'tolls_amount', 'improvement_surcharge', 'total_amount',\n",
       "       'payment_type', 'trip_type', 'congestion_surcharge', 'trip_time'],\n",
       "      dtype='object')"
      ]
     },
     "execution_count": 39,
     "metadata": {},
     "output_type": "execute_result"
    }
   ],
   "source": [
    "df.columns"
   ]
  },
  {
   "cell_type": "code",
   "execution_count": 40,
   "metadata": {},
   "outputs": [],
   "source": [
    "df.reset_index(drop=True, inplace=True)"
   ]
  },
  {
   "attachments": {},
   "cell_type": "markdown",
   "metadata": {},
   "source": [
    "**Extract Usefull Information from Datetime columns**"
   ]
  },
  {
   "cell_type": "code",
   "execution_count": 41,
   "metadata": {},
   "outputs": [],
   "source": [
    "# pickup and dropoff monthes and might be same in 99.99% case, so lets extract only from pickup datetime\n",
    "df[\"month\"], df[\"day\"] = df.lpep_pickup_datetime.dt.month, df.lpep_pickup_datetime.dt.weekday\n",
    "# with regard to hour, extraxtic from pickup_datetime columns should be right choice too\n",
    "df[\"hour\"] = df.lpep_pickup_datetime.dt.hour"
   ]
  },
  {
   "attachments": {},
   "cell_type": "markdown",
   "metadata": {},
   "source": [
    "**Add Zone Names**"
   ]
  },
  {
   "cell_type": "code",
   "execution_count": 42,
   "metadata": {},
   "outputs": [
    {
     "data": {
      "text/html": [
       "<div>\n",
       "<style scoped>\n",
       "    .dataframe tbody tr th:only-of-type {\n",
       "        vertical-align: middle;\n",
       "    }\n",
       "\n",
       "    .dataframe tbody tr th {\n",
       "        vertical-align: top;\n",
       "    }\n",
       "\n",
       "    .dataframe thead th {\n",
       "        text-align: right;\n",
       "    }\n",
       "</style>\n",
       "<table border=\"1\" class=\"dataframe\">\n",
       "  <thead>\n",
       "    <tr style=\"text-align: right;\">\n",
       "      <th></th>\n",
       "      <th>LocationID</th>\n",
       "      <th>Borough</th>\n",
       "      <th>Zone</th>\n",
       "      <th>service_zone</th>\n",
       "    </tr>\n",
       "  </thead>\n",
       "  <tbody>\n",
       "    <tr>\n",
       "      <th>0</th>\n",
       "      <td>1</td>\n",
       "      <td>EWR</td>\n",
       "      <td>Newark Airport</td>\n",
       "      <td>EWR</td>\n",
       "    </tr>\n",
       "    <tr>\n",
       "      <th>1</th>\n",
       "      <td>2</td>\n",
       "      <td>Queens</td>\n",
       "      <td>Jamaica Bay</td>\n",
       "      <td>Boro Zone</td>\n",
       "    </tr>\n",
       "    <tr>\n",
       "      <th>2</th>\n",
       "      <td>3</td>\n",
       "      <td>Bronx</td>\n",
       "      <td>Allerton/Pelham Gardens</td>\n",
       "      <td>Boro Zone</td>\n",
       "    </tr>\n",
       "    <tr>\n",
       "      <th>3</th>\n",
       "      <td>4</td>\n",
       "      <td>Manhattan</td>\n",
       "      <td>Alphabet City</td>\n",
       "      <td>Yellow Zone</td>\n",
       "    </tr>\n",
       "    <tr>\n",
       "      <th>4</th>\n",
       "      <td>5</td>\n",
       "      <td>Staten Island</td>\n",
       "      <td>Arden Heights</td>\n",
       "      <td>Boro Zone</td>\n",
       "    </tr>\n",
       "  </tbody>\n",
       "</table>\n",
       "</div>"
      ],
      "text/plain": [
       "   LocationID        Borough                     Zone service_zone\n",
       "0           1            EWR           Newark Airport          EWR\n",
       "1           2         Queens              Jamaica Bay    Boro Zone\n",
       "2           3          Bronx  Allerton/Pelham Gardens    Boro Zone\n",
       "3           4      Manhattan            Alphabet City  Yellow Zone\n",
       "4           5  Staten Island            Arden Heights    Boro Zone"
      ]
     },
     "execution_count": 42,
     "metadata": {},
     "output_type": "execute_result"
    }
   ],
   "source": [
    "df_zone_look.head()"
   ]
  },
  {
   "cell_type": "code",
   "execution_count": 43,
   "metadata": {},
   "outputs": [],
   "source": [
    "df = df.merge(df_zone_look, how=\"left\", left_on=\"pulocationid\", right_on=\"LocationID\").drop(columns=[\"LocationID\"], axis=1)\n",
    "df.rename({\"Borough\": \"pickup_boro\", \"service_zone\": \"pickup_servicezone\", \"Zone\": \"pickup_zone\"}, axis=1, inplace=True)\n",
    "\n",
    "df = df.merge(df_zone_look, how=\"left\", left_on=\"dolocationid\", right_on=\"LocationID\").drop(columns=[\"LocationID\"], axis=1)\n",
    "df.rename({\"Borough\": \"dropoff_boro\", \"service_zone\": \"dropoff_servicezone\", \"Zone\": \"drop_zone\"}, axis=1, inplace=True)"
   ]
  },
  {
   "cell_type": "code",
   "execution_count": 44,
   "metadata": {},
   "outputs": [
    {
     "data": {
      "text/plain": [
       "Boro Zone      601773\n",
       "Yellow Zone     34277\n",
       "Airports          541\n",
       "EWR                16\n",
       "Name: pickup_servicezone, dtype: int64"
      ]
     },
     "execution_count": 44,
     "metadata": {},
     "output_type": "execute_result"
    }
   ],
   "source": [
    "df.pickup_servicezone.value_counts()"
   ]
  },
  {
   "cell_type": "code",
   "execution_count": 45,
   "metadata": {},
   "outputs": [
    {
     "data": {
      "text/plain": [
       "Manhattan        394436\n",
       "Queens           148998\n",
       "Brooklyn          80732\n",
       "Bronx             12389\n",
       "Staten Island        36\n",
       "EWR                  16\n",
       "Name: pickup_boro, dtype: int64"
      ]
     },
     "execution_count": 45,
     "metadata": {},
     "output_type": "execute_result"
    }
   ],
   "source": [
    "df.pickup_boro.value_counts()"
   ]
  },
  {
   "cell_type": "code",
   "execution_count": 46,
   "metadata": {},
   "outputs": [
    {
     "data": {
      "text/plain": [
       "3     65803\n",
       "4     63187\n",
       "5     61737\n",
       "6     59404\n",
       "10    58230\n",
       "2     57957\n",
       "9     57148\n",
       "8     55107\n",
       "11    52765\n",
       "7     52677\n",
       "1     52592\n",
       "Name: month, dtype: int64"
      ]
     },
     "execution_count": 46,
     "metadata": {},
     "output_type": "execute_result"
    }
   ],
   "source": [
    "df.month.value_counts()"
   ]
  },
  {
   "cell_type": "code",
   "execution_count": 47,
   "metadata": {},
   "outputs": [],
   "source": [
    "month_names = {1:\"Jan\", 2:\"Feb\", 3:\"March\", 4:\"April\", 5:\"May\", 6:\"June\", 7:\"July\", 8:\"Aug\", 9:\"Sep\", 10:\"Oct\", 11:\"Nov\", 12:\"Dec\"}\n",
    "day_names = {0:\"Mon\", 1:\"Tues\", 2:\"Wed\", 3:\"Thurs\", 4:\"Fri\", 5:\"Sat\", 6:\"Sun\"}\n",
    "\n",
    "df[\"month_name\"] = df[\"month\"].apply(lambda x: month_names[x])\n",
    "df[\"day_name\"] = df[\"day\"].apply(lambda x: day_names[x])"
   ]
  },
  {
   "cell_type": "code",
   "execution_count": 48,
   "metadata": {},
   "outputs": [],
   "source": [
    "hour_mapper = { 23:\"23:00-02:00\", 0:\"23:00-02:00\", 1:\"23:00-02:00\", 2:\"02:00-05:00\", 3:\"02:00-05:00\", 4:\"02:00-05:00\", 5:\"05:00-08:00\",\n",
    "                6:\"05:00-08:00\", 7:\"05:00-08:00\", 8:\"08:00-11:00\", 9:\"08:00-11:00\", 10:\"08:00-11:00\", 11:\"11:00-14:00\", 12:\"11:00-14:00\",\n",
    "                13:\"11:00-14:00\", 14:\"14:00-17:00\", 15:\"14:00-17:00\", 16:\"14:00-17:00\", 17:\"17:00-20:00\", 18:\"17:00-20:00\", 19:\"17:00-20:00\",\n",
    "                20:\"20:00-23:00\", 21:\"20:00-23:00\", 22:\"20:00-23:00\"}"
   ]
  },
  {
   "cell_type": "code",
   "execution_count": 49,
   "metadata": {},
   "outputs": [],
   "source": [
    "df[\"hour_interval\"] = df[\"hour\"].apply(lambda x: hour_mapper[x])"
   ]
  },
  {
   "attachments": {},
   "cell_type": "markdown",
   "metadata": {},
   "source": [
    "**Set more intuitive names to variables**"
   ]
  },
  {
   "cell_type": "code",
   "execution_count": 50,
   "metadata": {},
   "outputs": [],
   "source": [
    "df[\"vendorid_name\"] = df[\"vendorid\"].apply(lambda x: \"LLC\" if x==1 else \"VeriFone\")\n",
    "ratecodeid_mapper = {1:\"Standard rate\", 2:\"JFK\", 3:\"Newark\", 4:\"Nassau or Westchester\",\n",
    "                     5:\"Negoriated fare\", 6:\"Group ride\"}\n",
    "df[\"ratecodeid_name\"] = df[\"ratecodeid\"].apply(lambda x: ratecodeid_mapper[x])\n",
    "payment_type_mapper = {1:\"Credit Card\", 2:\"Cash\", 3:\"No Charge\", 4:\"Dispute\", 5:\"Unknown\", 6:\"Voided trip\"}\n",
    "df[\"payment_type_name\"] = df[\"payment_type\"].apply(lambda x: payment_type_mapper[x])\n",
    "df[\"trip_type_names\"] = df[\"trip_type\"].apply(lambda x: \"Street-hail\" if x==1 else \"Dispatch\")"
   ]
  },
  {
   "attachments": {},
   "cell_type": "markdown",
   "metadata": {},
   "source": [
    "**Get Cerner Coordinates of Zones**"
   ]
  },
  {
   "cell_type": "code",
   "execution_count": 51,
   "metadata": {},
   "outputs": [
    {
     "data": {
      "text/html": [
       "<div>\n",
       "<style scoped>\n",
       "    .dataframe tbody tr th:only-of-type {\n",
       "        vertical-align: middle;\n",
       "    }\n",
       "\n",
       "    .dataframe tbody tr th {\n",
       "        vertical-align: top;\n",
       "    }\n",
       "\n",
       "    .dataframe thead th {\n",
       "        text-align: right;\n",
       "    }\n",
       "</style>\n",
       "<table border=\"1\" class=\"dataframe\">\n",
       "  <thead>\n",
       "    <tr style=\"text-align: right;\">\n",
       "      <th></th>\n",
       "      <th>OBJECTID</th>\n",
       "      <th>Shape_Leng</th>\n",
       "      <th>the_geom</th>\n",
       "      <th>Shape_Area</th>\n",
       "      <th>zone</th>\n",
       "      <th>LocationID</th>\n",
       "      <th>borough</th>\n",
       "    </tr>\n",
       "  </thead>\n",
       "  <tbody>\n",
       "    <tr>\n",
       "      <th>0</th>\n",
       "      <td>1</td>\n",
       "      <td>0.116357</td>\n",
       "      <td>MULTIPOLYGON (((-74.18445299999996 40.69499599...</td>\n",
       "      <td>0.000782</td>\n",
       "      <td>Newark Airport</td>\n",
       "      <td>1</td>\n",
       "      <td>EWR</td>\n",
       "    </tr>\n",
       "    <tr>\n",
       "      <th>1</th>\n",
       "      <td>2</td>\n",
       "      <td>0.433470</td>\n",
       "      <td>MULTIPOLYGON (((-73.82337597260663 40.63898704...</td>\n",
       "      <td>0.004866</td>\n",
       "      <td>Jamaica Bay</td>\n",
       "      <td>2</td>\n",
       "      <td>Queens</td>\n",
       "    </tr>\n",
       "    <tr>\n",
       "      <th>2</th>\n",
       "      <td>3</td>\n",
       "      <td>0.084341</td>\n",
       "      <td>MULTIPOLYGON (((-73.84792614099985 40.87134223...</td>\n",
       "      <td>0.000314</td>\n",
       "      <td>Allerton/Pelham Gardens</td>\n",
       "      <td>3</td>\n",
       "      <td>Bronx</td>\n",
       "    </tr>\n",
       "    <tr>\n",
       "      <th>3</th>\n",
       "      <td>4</td>\n",
       "      <td>0.043567</td>\n",
       "      <td>MULTIPOLYGON (((-73.97177410965318 40.72582128...</td>\n",
       "      <td>0.000112</td>\n",
       "      <td>Alphabet City</td>\n",
       "      <td>4</td>\n",
       "      <td>Manhattan</td>\n",
       "    </tr>\n",
       "    <tr>\n",
       "      <th>4</th>\n",
       "      <td>5</td>\n",
       "      <td>0.092146</td>\n",
       "      <td>MULTIPOLYGON (((-74.17421738099989 40.56256808...</td>\n",
       "      <td>0.000498</td>\n",
       "      <td>Arden Heights</td>\n",
       "      <td>5</td>\n",
       "      <td>Staten Island</td>\n",
       "    </tr>\n",
       "  </tbody>\n",
       "</table>\n",
       "</div>"
      ],
      "text/plain": [
       "   OBJECTID  Shape_Leng                                           the_geom  \\\n",
       "0         1    0.116357  MULTIPOLYGON (((-74.18445299999996 40.69499599...   \n",
       "1         2    0.433470  MULTIPOLYGON (((-73.82337597260663 40.63898704...   \n",
       "2         3    0.084341  MULTIPOLYGON (((-73.84792614099985 40.87134223...   \n",
       "3         4    0.043567  MULTIPOLYGON (((-73.97177410965318 40.72582128...   \n",
       "4         5    0.092146  MULTIPOLYGON (((-74.17421738099989 40.56256808...   \n",
       "\n",
       "   Shape_Area                     zone  LocationID        borough  \n",
       "0    0.000782           Newark Airport           1            EWR  \n",
       "1    0.004866              Jamaica Bay           2         Queens  \n",
       "2    0.000314  Allerton/Pelham Gardens           3          Bronx  \n",
       "3    0.000112            Alphabet City           4      Manhattan  \n",
       "4    0.000498            Arden Heights           5  Staten Island  "
      ]
     },
     "execution_count": 51,
     "metadata": {},
     "output_type": "execute_result"
    }
   ],
   "source": [
    "df_zone_coor.head()"
   ]
  },
  {
   "cell_type": "code",
   "execution_count": 52,
   "metadata": {},
   "outputs": [],
   "source": [
    "def centroid_extractor(multy_polygon , coord=\"latitude\"):\n",
    "    centroid = wkt.loads(multy_polygon).centroid.wkt\n",
    "    st_idx, end_idx = centroid.find(\"(\"), centroid.find(\")\")\n",
    "    main_string = centroid[st_idx+1:end_idx]\n",
    "    long, lat = main_string.split(\" \")\n",
    "    if coord==\"latitude\":\n",
    "        return float(lat)\n",
    "    elif coord==\"longitude\":\n",
    "        return float(long)"
   ]
  },
  {
   "cell_type": "code",
   "execution_count": 53,
   "metadata": {},
   "outputs": [
    {
     "data": {
      "text/html": [
       "<div>\n",
       "<style scoped>\n",
       "    .dataframe tbody tr th:only-of-type {\n",
       "        vertical-align: middle;\n",
       "    }\n",
       "\n",
       "    .dataframe tbody tr th {\n",
       "        vertical-align: top;\n",
       "    }\n",
       "\n",
       "    .dataframe thead th {\n",
       "        text-align: right;\n",
       "    }\n",
       "</style>\n",
       "<table border=\"1\" class=\"dataframe\">\n",
       "  <thead>\n",
       "    <tr style=\"text-align: right;\">\n",
       "      <th></th>\n",
       "      <th>OBJECTID</th>\n",
       "      <th>Shape_Leng</th>\n",
       "      <th>the_geom</th>\n",
       "      <th>Shape_Area</th>\n",
       "      <th>zone</th>\n",
       "      <th>LocationID</th>\n",
       "      <th>borough</th>\n",
       "    </tr>\n",
       "  </thead>\n",
       "  <tbody>\n",
       "    <tr>\n",
       "      <th>56</th>\n",
       "      <td>57</td>\n",
       "      <td>0.019271</td>\n",
       "      <td>MULTIPOLYGON (((-73.8513110499998 40.749843375...</td>\n",
       "      <td>0.000018</td>\n",
       "      <td>Corona</td>\n",
       "      <td>56</td>\n",
       "      <td>Queens</td>\n",
       "    </tr>\n",
       "    <tr>\n",
       "      <th>104</th>\n",
       "      <td>104</td>\n",
       "      <td>0.021221</td>\n",
       "      <td>MULTIPOLYGON (((-74.03995040794244 40.70089063...</td>\n",
       "      <td>0.000012</td>\n",
       "      <td>Governor's Island/Ellis Island/Liberty Island</td>\n",
       "      <td>103</td>\n",
       "      <td>Manhattan</td>\n",
       "    </tr>\n",
       "    <tr>\n",
       "      <th>105</th>\n",
       "      <td>105</td>\n",
       "      <td>0.077425</td>\n",
       "      <td>MULTIPOLYGON (((-74.01674756096064 40.69334336...</td>\n",
       "      <td>0.000369</td>\n",
       "      <td>Governor's Island/Ellis Island/Liberty Island</td>\n",
       "      <td>103</td>\n",
       "      <td>Manhattan</td>\n",
       "    </tr>\n",
       "  </tbody>\n",
       "</table>\n",
       "</div>"
      ],
      "text/plain": [
       "     OBJECTID  Shape_Leng                                           the_geom  \\\n",
       "56         57    0.019271  MULTIPOLYGON (((-73.8513110499998 40.749843375...   \n",
       "104       104    0.021221  MULTIPOLYGON (((-74.03995040794244 40.70089063...   \n",
       "105       105    0.077425  MULTIPOLYGON (((-74.01674756096064 40.69334336...   \n",
       "\n",
       "     Shape_Area                                           zone  LocationID  \\\n",
       "56     0.000018                                         Corona          56   \n",
       "104    0.000012  Governor's Island/Ellis Island/Liberty Island         103   \n",
       "105    0.000369  Governor's Island/Ellis Island/Liberty Island         103   \n",
       "\n",
       "       borough  \n",
       "56      Queens  \n",
       "104  Manhattan  \n",
       "105  Manhattan  "
      ]
     },
     "execution_count": 53,
     "metadata": {},
     "output_type": "execute_result"
    }
   ],
   "source": [
    "df_zone_coor[df_zone_coor.LocationID!=df_zone_coor.OBJECTID]"
   ]
  },
  {
   "attachments": {},
   "cell_type": "markdown",
   "metadata": {},
   "source": [
    "* Before creating new columns with center locations, there is small issue in dataframe: we have some duplicate values in LocationID, let's fix it"
   ]
  },
  {
   "cell_type": "code",
   "execution_count": 54,
   "metadata": {},
   "outputs": [],
   "source": [
    "df_zone_coor.iloc[56,5], df_zone_coor.iloc[104,5], df_zone_coor.iloc[105,5] = 57, 104, 105"
   ]
  },
  {
   "cell_type": "code",
   "execution_count": 55,
   "metadata": {},
   "outputs": [],
   "source": [
    "df_zone_coor[\"centroid_long\"] = df_zone_coor.the_geom.apply(lambda x: centroid_extractor(x, coord=\"longitude\"))\n",
    "df_zone_coor[\"centroid_lat\"] = df_zone_coor.the_geom.apply(lambda x: centroid_extractor(x, coord=\"latitude\"))"
   ]
  },
  {
   "cell_type": "code",
   "execution_count": 56,
   "metadata": {},
   "outputs": [],
   "source": [
    "df = df.merge(df_zone_coor[[\"LocationID\", \"centroid_lat\", \"centroid_long\"]], how=\"left\", left_on=\"pulocationid\", right_on=\"LocationID\").drop(columns=[\"LocationID\"], axis=1)\n",
    "df.rename({\"centroid_lat\": \"pickup_centroid_lat\", \"centroid_long\": \"pickup_centroid_long\"}, axis=1, inplace=True)\n",
    "df = df.merge(df_zone_coor[[\"LocationID\", \"centroid_lat\", \"centroid_long\"]], how=\"left\", left_on=\"dolocationid\", right_on=\"LocationID\").drop(columns=[\"LocationID\"], axis=1)\n",
    "df.rename({\"centroid_lat\": \"dropoff_centroid_lat\", \"centroid_long\": \"dropoff_centroid_long\"}, axis=1, inplace=True)"
   ]
  },
  {
   "cell_type": "code",
   "execution_count": 58,
   "metadata": {},
   "outputs": [
    {
     "data": {
      "text/plain": [
       "Index(['vendorid', 'lpep_pickup_datetime', 'lpep_dropoff_datetime',\n",
       "       'store_and_fwd_flag', 'ratecodeid', 'pulocationid', 'dolocationid',\n",
       "       'passenger_count', 'trip_distance', 'fare_amount', 'extra', 'mta_tax',\n",
       "       'tip_amount', 'tolls_amount', 'improvement_surcharge', 'total_amount',\n",
       "       'payment_type', 'trip_type', 'congestion_surcharge', 'trip_time',\n",
       "       'month', 'day', 'hour', 'pickup_boro', 'pickup_zone',\n",
       "       'pickup_servicezone', 'dropoff_boro', 'drop_zone',\n",
       "       'dropoff_servicezone', 'month_name', 'day_name', 'hour_interval',\n",
       "       'vendorid_name', 'ratecodeid_name', 'payment_type_name',\n",
       "       'trip_type_names', 'pickup_centroid_lat', 'pickup_centroid_long',\n",
       "       'dropoff_centroid_lat', 'dropoff_centroid_long'],\n",
       "      dtype='object')"
      ]
     },
     "execution_count": 58,
     "metadata": {},
     "output_type": "execute_result"
    }
   ],
   "source": [
    "df.columns"
   ]
  },
  {
   "attachments": {},
   "cell_type": "markdown",
   "metadata": {},
   "source": [
    "**Save Data For Visualization**"
   ]
  },
  {
   "cell_type": "code",
   "execution_count": 59,
   "metadata": {},
   "outputs": [],
   "source": [
    "df.to_parquet(\"Data/cleaned_data.parquet\")"
   ]
  },
  {
   "attachments": {},
   "cell_type": "markdown",
   "metadata": {},
   "source": [
    "**data preprocessing**"
   ]
  },
  {
   "cell_type": "code",
   "execution_count": 60,
   "metadata": {},
   "outputs": [
    {
     "data": {
      "text/plain": [
       "Index(['vendorid', 'lpep_pickup_datetime', 'lpep_dropoff_datetime',\n",
       "       'store_and_fwd_flag', 'ratecodeid', 'pulocationid', 'dolocationid',\n",
       "       'passenger_count', 'trip_distance', 'fare_amount', 'extra', 'mta_tax',\n",
       "       'tip_amount', 'tolls_amount', 'improvement_surcharge', 'total_amount',\n",
       "       'payment_type', 'trip_type', 'congestion_surcharge', 'trip_time',\n",
       "       'month', 'day', 'hour', 'pickup_boro', 'pickup_zone',\n",
       "       'pickup_servicezone', 'dropoff_boro', 'drop_zone',\n",
       "       'dropoff_servicezone', 'month_name', 'day_name', 'hour_interval',\n",
       "       'vendorid_name', 'ratecodeid_name', 'payment_type_name',\n",
       "       'trip_type_names', 'pickup_centroid_lat', 'pickup_centroid_long',\n",
       "       'dropoff_centroid_lat', 'dropoff_centroid_long'],\n",
       "      dtype='object')"
      ]
     },
     "execution_count": 60,
     "metadata": {},
     "output_type": "execute_result"
    }
   ],
   "source": [
    "df.columns"
   ]
  },
  {
   "attachments": {},
   "cell_type": "markdown",
   "metadata": {},
   "source": [
    "**Little Data Cleaning**"
   ]
  },
  {
   "attachments": {},
   "cell_type": "markdown",
   "metadata": {},
   "source": [
    "* After data vizualization, I decided to drop observations with payment type \"Dispute\" or \"Unknown\" as these are cases when passenger did not payed fee or have other problems with driver (I think this observations will not help in our task: predict Taxi Fare Amount)"
   ]
  },
  {
   "cell_type": "code",
   "execution_count": 61,
   "metadata": {},
   "outputs": [],
   "source": [
    "df = df.loc[(df.payment_type_name!=\"Dispute\")&(df.payment_type_name!=\"Unknown\")]"
   ]
  },
  {
   "cell_type": "code",
   "execution_count": 62,
   "metadata": {},
   "outputs": [],
   "source": [
    "df.reset_index(inplace=True, drop=True)"
   ]
  },
  {
   "cell_type": "code",
   "execution_count": 64,
   "metadata": {},
   "outputs": [
    {
     "data": {
      "text/plain": [
       "Index(['vendorid', 'lpep_pickup_datetime', 'lpep_dropoff_datetime',\n",
       "       'store_and_fwd_flag', 'ratecodeid', 'pulocationid', 'dolocationid',\n",
       "       'passenger_count', 'trip_distance', 'fare_amount', 'extra', 'mta_tax',\n",
       "       'tip_amount', 'tolls_amount', 'improvement_surcharge', 'total_amount',\n",
       "       'payment_type', 'trip_type', 'congestion_surcharge', 'trip_time',\n",
       "       'month', 'day', 'hour', 'pickup_boro', 'pickup_zone',\n",
       "       'pickup_servicezone', 'dropoff_boro', 'drop_zone',\n",
       "       'dropoff_servicezone', 'month_name', 'day_name', 'hour_interval',\n",
       "       'vendorid_name', 'ratecodeid_name', 'payment_type_name',\n",
       "       'trip_type_names', 'pickup_centroid_lat', 'pickup_centroid_long',\n",
       "       'dropoff_centroid_lat', 'dropoff_centroid_long'],\n",
       "      dtype='object')"
      ]
     },
     "execution_count": 64,
     "metadata": {},
     "output_type": "execute_result"
    }
   ],
   "source": [
    "df.columns"
   ]
  },
  {
   "attachments": {},
   "cell_type": "markdown",
   "metadata": {},
   "source": [
    "**Create New DataFrame to Collect Features for Regression**\n",
    "* As our task is to predict Taxi Fare, I think variables like \"tip_amount\" or \"improvement_surcharge\" is not relevant in prediction, so I will  not include them in model feature"
   ]
  },
  {
   "cell_type": "code",
   "execution_count": 63,
   "metadata": {},
   "outputs": [],
   "source": [
    "df_new = df[[\"trip_distance\", \"fare_amount\", \"trip_time\", \"pickup_centroid_lat\", \"pickup_centroid_long\",\n",
    "             \"dropoff_centroid_lat\", \"dropoff_centroid_long\"]]"
   ]
  },
  {
   "attachments": {},
   "cell_type": "markdown",
   "metadata": {},
   "source": [
    "**Add Airport Dummy Variable**"
   ]
  },
  {
   "cell_type": "code",
   "execution_count": 65,
   "metadata": {},
   "outputs": [
    {
     "name": "stderr",
     "output_type": "stream",
     "text": [
      "C:\\Users\\User\\AppData\\Local\\Temp\\ipykernel_13584\\2336795238.py:1: SettingWithCopyWarning: \n",
      "A value is trying to be set on a copy of a slice from a DataFrame.\n",
      "Try using .loc[row_indexer,col_indexer] = value instead\n",
      "\n",
      "See the caveats in the documentation: https://pandas.pydata.org/pandas-docs/stable/user_guide/indexing.html#returning-a-view-versus-a-copy\n",
      "  df_new[\"airport_dummy\"] = df[\"pickup_zone\"].apply(lambda x: 1 if x in [\"LaGuardia Airport\",\"JFK Airport\"] else 0)\n"
     ]
    }
   ],
   "source": [
    "df_new[\"airport_dummy\"] = df[\"pickup_zone\"].apply(lambda x: 1 if x in [\"LaGuardia Airport\",\"JFK Airport\"] else 0)"
   ]
  },
  {
   "cell_type": "code",
   "execution_count": 66,
   "metadata": {},
   "outputs": [
    {
     "data": {
      "text/plain": [
       "0    635371\n",
       "1       541\n",
       "Name: airport_dummy, dtype: int64"
      ]
     },
     "execution_count": 66,
     "metadata": {},
     "output_type": "execute_result"
    }
   ],
   "source": [
    "df_new[\"airport_dummy\"].value_counts()"
   ]
  },
  {
   "attachments": {},
   "cell_type": "markdown",
   "metadata": {},
   "source": [
    "**Weekend Dummy Variable**"
   ]
  },
  {
   "cell_type": "code",
   "execution_count": 67,
   "metadata": {},
   "outputs": [
    {
     "name": "stderr",
     "output_type": "stream",
     "text": [
      "C:\\Users\\User\\AppData\\Local\\Temp\\ipykernel_13584\\139886056.py:1: SettingWithCopyWarning: \n",
      "A value is trying to be set on a copy of a slice from a DataFrame.\n",
      "Try using .loc[row_indexer,col_indexer] = value instead\n",
      "\n",
      "See the caveats in the documentation: https://pandas.pydata.org/pandas-docs/stable/user_guide/indexing.html#returning-a-view-versus-a-copy\n",
      "  df_new[\"weekend\"] = df.day.apply(lambda x: 1 if ((x==6) or (x==7)) else 0)\n"
     ]
    }
   ],
   "source": [
    "df_new[\"weekend\"] = df.day.apply(lambda x: 1 if ((x==6) or (x==7)) else 0)"
   ]
  },
  {
   "cell_type": "code",
   "execution_count": 68,
   "metadata": {},
   "outputs": [
    {
     "data": {
      "text/plain": [
       "0    564427\n",
       "1     71485\n",
       "Name: weekend, dtype: int64"
      ]
     },
     "execution_count": 68,
     "metadata": {},
     "output_type": "execute_result"
    }
   ],
   "source": [
    "df_new[\"weekend\"].value_counts()"
   ]
  },
  {
   "cell_type": "code",
   "execution_count": 69,
   "metadata": {},
   "outputs": [],
   "source": [
    "df_new.reset_index(drop=True, inplace=True)"
   ]
  },
  {
   "attachments": {},
   "cell_type": "markdown",
   "metadata": {},
   "source": [
    "**Add other necessary Dummy Variables**"
   ]
  },
  {
   "cell_type": "code",
   "execution_count": 70,
   "metadata": {},
   "outputs": [],
   "source": [
    "dummy_columns = [\"vendorid_name\", \"payment_type_name\", \"hour_interval\", \"trip_type_names\", ]"
   ]
  },
  {
   "cell_type": "code",
   "execution_count": 71,
   "metadata": {},
   "outputs": [],
   "source": [
    "dummies1 = pd.get_dummies(df[dummy_columns], drop_first=True)\n",
    "dummies2 = pd.get_dummies(df[\"passenger_count\"], drop_first=True)\n",
    "dummies2.columns = [\"passenger_1\", \"passenger_2\", \"passenger_3\", \"passenger_4\", \"passenger_5\", \"passenger_6\",]\n",
    "dummies3 = pd.get_dummies(df[\"month\"], drop_first=True)\n",
    "dummies3.columns = [\"month2\", \"month3\", \"month4\", \"month5\", \"month6\",\"month7\", \"month8\", \"month9\", \"month10\", \"month11\"]"
   ]
  },
  {
   "cell_type": "code",
   "execution_count": 72,
   "metadata": {},
   "outputs": [],
   "source": [
    "df_new = pd.concat([df_new, dummies1, dummies2, dummies3], axis=1)"
   ]
  },
  {
   "cell_type": "code",
   "execution_count": 73,
   "metadata": {},
   "outputs": [
    {
     "data": {
      "text/plain": [
       "Index(['trip_distance', 'fare_amount', 'trip_time', 'pickup_centroid_lat',\n",
       "       'pickup_centroid_long', 'dropoff_centroid_lat', 'dropoff_centroid_long',\n",
       "       'airport_dummy', 'weekend', 'vendorid_name_VeriFone',\n",
       "       'payment_type_name_Credit Card', 'payment_type_name_No Charge',\n",
       "       'hour_interval_05:00-08:00', 'hour_interval_08:00-11:00',\n",
       "       'hour_interval_11:00-14:00', 'hour_interval_14:00-17:00',\n",
       "       'hour_interval_17:00-20:00', 'hour_interval_20:00-23:00',\n",
       "       'hour_interval_23:00-02:00', 'trip_type_names_Street-hail',\n",
       "       'passenger_1', 'passenger_2', 'passenger_3', 'passenger_4',\n",
       "       'passenger_5', 'passenger_6', 'month2', 'month3', 'month4', 'month5',\n",
       "       'month6', 'month7', 'month8', 'month9', 'month10', 'month11'],\n",
       "      dtype='object')"
      ]
     },
     "execution_count": 73,
     "metadata": {},
     "output_type": "execute_result"
    }
   ],
   "source": [
    "df_new.columns # remove vendorid_name_VeriFone"
   ]
  },
  {
   "cell_type": "code",
   "execution_count": 74,
   "metadata": {},
   "outputs": [
    {
     "data": {
      "text/plain": [
       "Index(['vendorid', 'lpep_pickup_datetime', 'lpep_dropoff_datetime',\n",
       "       'store_and_fwd_flag', 'ratecodeid', 'pulocationid', 'dolocationid',\n",
       "       'passenger_count', 'trip_distance', 'fare_amount', 'extra', 'mta_tax',\n",
       "       'tip_amount', 'tolls_amount', 'improvement_surcharge', 'total_amount',\n",
       "       'payment_type', 'trip_type', 'congestion_surcharge', 'trip_time',\n",
       "       'month', 'day', 'hour', 'pickup_boro', 'pickup_zone',\n",
       "       'pickup_servicezone', 'dropoff_boro', 'drop_zone',\n",
       "       'dropoff_servicezone', 'month_name', 'day_name', 'hour_interval',\n",
       "       'vendorid_name', 'ratecodeid_name', 'payment_type_name',\n",
       "       'trip_type_names', 'pickup_centroid_lat', 'pickup_centroid_long',\n",
       "       'dropoff_centroid_lat', 'dropoff_centroid_long'],\n",
       "      dtype='object')"
      ]
     },
     "execution_count": 74,
     "metadata": {},
     "output_type": "execute_result"
    }
   ],
   "source": [
    "df.columns"
   ]
  },
  {
   "cell_type": "code",
   "execution_count": 75,
   "metadata": {},
   "outputs": [
    {
     "data": {
      "text/plain": [
       "((635912, 40), (635912, 36))"
      ]
     },
     "execution_count": 75,
     "metadata": {},
     "output_type": "execute_result"
    }
   ],
   "source": [
    "df.shape, df_new.shape"
   ]
  },
  {
   "attachments": {},
   "cell_type": "markdown",
   "metadata": {},
   "source": [
    "**Define X & Y Matrices**"
   ]
  },
  {
   "cell_type": "code",
   "execution_count": 76,
   "metadata": {},
   "outputs": [],
   "source": [
    "X_raw, y = df_new.drop(columns=[\"fare_amount\"]).values, df_new[\"fare_amount\"].values"
   ]
  },
  {
   "cell_type": "code",
   "execution_count": 77,
   "metadata": {},
   "outputs": [],
   "source": [
    "scaler = StandardScaler()\n",
    "X = scaler.fit_transform(X_raw)"
   ]
  },
  {
   "cell_type": "code",
   "execution_count": 78,
   "metadata": {},
   "outputs": [
    {
     "data": {
      "text/plain": [
       "['std_scaler.bin']"
      ]
     },
     "execution_count": 78,
     "metadata": {},
     "output_type": "execute_result"
    }
   ],
   "source": [
    "dump(scaler, \"std_scaler.bin\")"
   ]
  },
  {
   "cell_type": "code",
   "execution_count": 79,
   "metadata": {},
   "outputs": [
    {
     "data": {
      "text/plain": [
       "((515088, 35), (515088,), (63592, 35), (63592,), (57232, 35), (57232,))"
      ]
     },
     "execution_count": 79,
     "metadata": {},
     "output_type": "execute_result"
    }
   ],
   "source": [
    "train_x, val_x, train_y, val_y = train_test_split(X, y, test_size=0.1, random_state=44444)\n",
    "train_x, test_x, train_y, test_y = train_test_split(train_x, train_y, test_size=0.1, random_state=44444)\n",
    "train_x.shape, train_y.shape, val_x.shape, val_y.shape, test_x.shape, test_y.shape"
   ]
  },
  {
   "attachments": {},
   "cell_type": "markdown",
   "metadata": {},
   "source": [
    "### Building & Traning Model"
   ]
  },
  {
   "cell_type": "code",
   "execution_count": 80,
   "metadata": {},
   "outputs": [],
   "source": [
    "train_x, val_x, test_x = torch.Tensor(train_x), torch.Tensor(val_x), torch.Tensor(test_x)"
   ]
  },
  {
   "cell_type": "code",
   "execution_count": 81,
   "metadata": {},
   "outputs": [],
   "source": [
    "class MyDataset(Dataset):\n",
    "    def __init__(self, x, y):\n",
    "        self.x = x\n",
    "        self.y = y\n",
    "\n",
    "    def __len__(self):\n",
    "        return len(self.x)\n",
    "\n",
    "    def __getitem__(self, idx):\n",
    "        return self.x[idx], self.y[idx]"
   ]
  },
  {
   "cell_type": "code",
   "execution_count": 82,
   "metadata": {},
   "outputs": [],
   "source": [
    "train_dataset = MyDataset(train_x, train_y)\n",
    "val_dataset = MyDataset(val_x, val_y)\n",
    "test_dataset = MyDataset(test_x, test_y)\n",
    "\n",
    "train_dataloader = DataLoader(train_dataset, batch_size=1024, shuffle=True)\n",
    "val_dataloader = DataLoader(val_dataset, batch_size=1024, shuffle=False)\n",
    "test_dataloader = DataLoader(test_dataset, batch_size=1024, shuffle=False)"
   ]
  },
  {
   "cell_type": "code",
   "execution_count": 83,
   "metadata": {},
   "outputs": [
    {
     "name": "stdout",
     "output_type": "stream",
     "text": [
      "0\n",
      "torch.Size([1024, 35])\n",
      "torch.Size([1024])\n"
     ]
    }
   ],
   "source": [
    "for n, (x, y) in enumerate(train_dataloader):\n",
    "    print(n)\n",
    "    print(x.shape)\n",
    "    print(y.shape)\n",
    "    break"
   ]
  },
  {
   "attachments": {},
   "cell_type": "markdown",
   "metadata": {},
   "source": [
    "**Model Architecture**\n",
    "* Firstly lets add Linear Layers without activations to get our input's embeddings in higher dimensions\n",
    "* Then I will add 2 Linear Layers with LeakyReLU actvination function and on top of that classifier layer\n",
    "* For leguralization I decided to use Dropout Layers with (with p=0.4)"
   ]
  },
  {
   "cell_type": "code",
   "execution_count": 85,
   "metadata": {},
   "outputs": [],
   "source": [
    "class Model(nn.Module):\n",
    "    def __init__(self):\n",
    "        super().__init__()\n",
    "        self.layers = nn.Sequential(\n",
    "            nn.Linear(35, 200),\n",
    "            nn.Linear(200, 200),\n",
    "            nn.Linear(200, 400),\n",
    "            nn.LeakyReLU(inplace=True),\n",
    "            nn.Dropout(0.4),\n",
    "            nn.Linear(400, 200),\n",
    "            nn.LeakyReLU(inplace=True),\n",
    "            nn.Dropout(0.4),\n",
    "            nn.Linear(200, 1),\n",
    "        )\n",
    "\n",
    "    def forward(self, x):\n",
    "        return self.layers(x)"
   ]
  },
  {
   "cell_type": "code",
   "execution_count": 86,
   "metadata": {},
   "outputs": [],
   "source": [
    "model = Model()"
   ]
  },
  {
   "attachments": {},
   "cell_type": "markdown",
   "metadata": {},
   "source": [
    "* For loss function, as it is regression task, MSELoss should be appropriate\n",
    "* For optimizer I simply use probably the most reliable optimizer: Adam optimizer with base learning rate 1e-4\n",
    "* To adjust learning rate, there is a optimizer which reduces learning rate 10 times if loss does not improve in 3 epoch"
   ]
  },
  {
   "cell_type": "code",
   "execution_count": 87,
   "metadata": {},
   "outputs": [],
   "source": [
    "loss_fn = nn.MSELoss()\n",
    "optimizer = torch.optim.Adam(params=model.parameters(), lr=1e-4)\n",
    "scheduler = torch.optim.lr_scheduler.ReduceLROnPlateau(optimizer, factor=0.1, patience=3, verbose=True)"
   ]
  },
  {
   "cell_type": "code",
   "execution_count": 88,
   "metadata": {},
   "outputs": [],
   "source": [
    "num_epochs = 40"
   ]
  },
  {
   "cell_type": "code",
   "execution_count": 89,
   "metadata": {},
   "outputs": [],
   "source": [
    "train_losses, val_losses = [], []"
   ]
  },
  {
   "cell_type": "code",
   "execution_count": 90,
   "metadata": {},
   "outputs": [],
   "source": [
    "bar_1 = tqdm(position=0, desc='epoch bar', total = num_epochs)\n",
    "bar_2 = tqdm(position=1, desc='Batch bar', total = len(train_dataloader), leave=True)\n",
    "\n",
    "for n_epoch in range(num_epochs):\n",
    "    train_epoch_loss = 0\n",
    "    val_epoch_loss = 0\n",
    "    model.train()\n",
    "    for n_batch, (x, y) in enumerate(train_dataloader):\n",
    "        x, y = x.float(), y.float()\n",
    "        pred = model(x) # make prediction\n",
    "\n",
    "        loss = loss_fn(pred.squeeze(axis=-1), y)\n",
    "\n",
    "        optimizer.zero_grad()\n",
    "        loss.backward()\n",
    "        optimizer.step()\n",
    "\n",
    "        train_epoch_loss+=loss\n",
    "\n",
    "        bar_2.update(1)\n",
    "        bar_2.set_description(f\"loss:{loss.item():.2f}\")\n",
    "    \n",
    "    model.eval()\n",
    "    with torch.no_grad():\n",
    "        for n_batch, (x, y) in enumerate(val_dataloader):\n",
    "            x, y = x.float(), y.float()\n",
    "            preds = model(x)\n",
    "\n",
    "            val_loss = loss_fn(preds.squeeze(axis=-1), y)\n",
    "            val_epoch_loss+=val_loss\n",
    "\n",
    "    scheduler.step(train_epoch_loss/len(train_dataloader))\n",
    "    train_losses.append(float(train_epoch_loss/len(train_dataloader)))\n",
    "    val_losses.append(float(val_epoch_loss/len(val_dataloader)))\n",
    "    print(f\"Epoch: {n_epoch+1} | Train_loss: {train_epoch_loss/len(train_dataloader)} | Val_loss: {val_epoch_loss/len(val_dataloader)}\")\n",
    "    \n",
    "    bar_1.update(1)\n",
    "    bar_2.reset()"
   ]
  },
  {
   "cell_type": "code",
   "execution_count": 228,
   "metadata": {},
   "outputs": [
    {
     "data": {
      "image/png": "[encoded data removed]",
      "text/plain": [
       "<Figure size 640x480 with 1 Axes>"
      ]
     },
     "metadata": {},
     "output_type": "display_data"
    }
   ],
   "source": [
    "sns.lineplot(x=[*range(1,43)], y=train_losses, color=\"blue\", label=\"Training Cost\")\n",
    "sns.lineplot(x=[*range(1,43)], y=val_losses, color=\"red\", label=\"Validation Cost\")\n",
    "plt.title(\"Training Results\")\n",
    "plt.ylabel(\"Cost of Epoch\")\n",
    "plt.legend()\n",
    "plt.xlabel(\"Epoch\");"
   ]
  },
  {
   "attachments": {},
   "cell_type": "markdown",
   "metadata": {},
   "source": [
    "**Training Results**\n",
    "* As expected, training loss is above validation loss (it happens because of dropout layers)\n",
    "* After 20 epochs, loss stabilizes quite nicely (probably it converges to global minimum)\n",
    "* Even through loss is kind of stabilized, training a bit linger would give us a at least small improvement (I could not continue training as I used cpu and it's quite time consuming)"
   ]
  },
  {
   "cell_type": "code",
   "execution_count": 229,
   "metadata": {},
   "outputs": [],
   "source": [
    "torch.save(model.state_dict(), \"weights/weights1.pt\")"
   ]
  },
  {
   "cell_type": "code",
   "execution_count": 230,
   "metadata": {},
   "outputs": [],
   "source": [
    "predictions = torch.Tensor([])\n",
    "reals = torch.Tensor([])\n",
    "test_loss = 0\n",
    "model.eval()\n",
    "with torch.no_grad():\n",
    "    for n_batch, (x, y) in enumerate(test_dataloader):\n",
    "        x, y = x.float(), y.float()\n",
    "        preds = model(x)\n",
    "\n",
    "        test_batch_loss = loss_fn(preds.squeeze(axis=-1), y)\n",
    "        test_loss+=test_batch_loss\n",
    "        predictions = torch.cat([preds, predictions])\n",
    "        reals = torch.cat([y, reals])"
   ]
  },
  {
   "cell_type": "code",
   "execution_count": 231,
   "metadata": {},
   "outputs": [
    {
     "data": {
      "text/plain": [
       "((57232,), (57232,))"
      ]
     },
     "execution_count": 231,
     "metadata": {},
     "output_type": "execute_result"
    }
   ],
   "source": [
    "predictions = predictions.squeeze(axis=-1)\n",
    "predictions = predictions.numpy()\n",
    "reals = reals.numpy()\n",
    "predictions.shape, reals.shape"
   ]
  },
  {
   "cell_type": "code",
   "execution_count": 232,
   "metadata": {},
   "outputs": [
    {
     "data": {
      "text/html": [
       "<div>\n",
       "<style scoped>\n",
       "    .dataframe tbody tr th:only-of-type {\n",
       "        vertical-align: middle;\n",
       "    }\n",
       "\n",
       "    .dataframe tbody tr th {\n",
       "        vertical-align: top;\n",
       "    }\n",
       "\n",
       "    .dataframe thead th {\n",
       "        text-align: right;\n",
       "    }\n",
       "</style>\n",
       "<table border=\"1\" class=\"dataframe\">\n",
       "  <thead>\n",
       "    <tr style=\"text-align: right;\">\n",
       "      <th></th>\n",
       "      <th>0</th>\n",
       "      <th>1</th>\n",
       "    </tr>\n",
       "  </thead>\n",
       "  <tbody>\n",
       "    <tr>\n",
       "      <th>0</th>\n",
       "      <td>13.200339</td>\n",
       "      <td>13.0</td>\n",
       "    </tr>\n",
       "    <tr>\n",
       "      <th>1</th>\n",
       "      <td>24.779680</td>\n",
       "      <td>23.5</td>\n",
       "    </tr>\n",
       "    <tr>\n",
       "      <th>2</th>\n",
       "      <td>6.647506</td>\n",
       "      <td>6.5</td>\n",
       "    </tr>\n",
       "    <tr>\n",
       "      <th>3</th>\n",
       "      <td>6.942578</td>\n",
       "      <td>7.0</td>\n",
       "    </tr>\n",
       "    <tr>\n",
       "      <th>4</th>\n",
       "      <td>12.297835</td>\n",
       "      <td>12.5</td>\n",
       "    </tr>\n",
       "    <tr>\n",
       "      <th>5</th>\n",
       "      <td>12.304389</td>\n",
       "      <td>13.0</td>\n",
       "    </tr>\n",
       "    <tr>\n",
       "      <th>6</th>\n",
       "      <td>30.966730</td>\n",
       "      <td>32.0</td>\n",
       "    </tr>\n",
       "    <tr>\n",
       "      <th>7</th>\n",
       "      <td>5.168853</td>\n",
       "      <td>5.0</td>\n",
       "    </tr>\n",
       "    <tr>\n",
       "      <th>8</th>\n",
       "      <td>10.081594</td>\n",
       "      <td>10.0</td>\n",
       "    </tr>\n",
       "    <tr>\n",
       "      <th>9</th>\n",
       "      <td>4.793125</td>\n",
       "      <td>4.0</td>\n",
       "    </tr>\n",
       "    <tr>\n",
       "      <th>10</th>\n",
       "      <td>23.815641</td>\n",
       "      <td>24.0</td>\n",
       "    </tr>\n",
       "    <tr>\n",
       "      <th>11</th>\n",
       "      <td>12.997820</td>\n",
       "      <td>12.5</td>\n",
       "    </tr>\n",
       "    <tr>\n",
       "      <th>12</th>\n",
       "      <td>7.591419</td>\n",
       "      <td>8.0</td>\n",
       "    </tr>\n",
       "    <tr>\n",
       "      <th>13</th>\n",
       "      <td>5.210656</td>\n",
       "      <td>5.5</td>\n",
       "    </tr>\n",
       "    <tr>\n",
       "      <th>14</th>\n",
       "      <td>8.760707</td>\n",
       "      <td>9.0</td>\n",
       "    </tr>\n",
       "    <tr>\n",
       "      <th>15</th>\n",
       "      <td>18.903440</td>\n",
       "      <td>20.0</td>\n",
       "    </tr>\n",
       "    <tr>\n",
       "      <th>16</th>\n",
       "      <td>8.405300</td>\n",
       "      <td>8.5</td>\n",
       "    </tr>\n",
       "    <tr>\n",
       "      <th>17</th>\n",
       "      <td>27.234842</td>\n",
       "      <td>28.0</td>\n",
       "    </tr>\n",
       "    <tr>\n",
       "      <th>18</th>\n",
       "      <td>10.484615</td>\n",
       "      <td>10.5</td>\n",
       "    </tr>\n",
       "    <tr>\n",
       "      <th>19</th>\n",
       "      <td>11.715060</td>\n",
       "      <td>12.0</td>\n",
       "    </tr>\n",
       "  </tbody>\n",
       "</table>\n",
       "</div>"
      ],
      "text/plain": [
       "            0     1\n",
       "0   13.200339  13.0\n",
       "1   24.779680  23.5\n",
       "2    6.647506   6.5\n",
       "3    6.942578   7.0\n",
       "4   12.297835  12.5\n",
       "5   12.304389  13.0\n",
       "6   30.966730  32.0\n",
       "7    5.168853   5.0\n",
       "8   10.081594  10.0\n",
       "9    4.793125   4.0\n",
       "10  23.815641  24.0\n",
       "11  12.997820  12.5\n",
       "12   7.591419   8.0\n",
       "13   5.210656   5.5\n",
       "14   8.760707   9.0\n",
       "15  18.903440  20.0\n",
       "16   8.405300   8.5\n",
       "17  27.234842  28.0\n",
       "18  10.484615  10.5\n",
       "19  11.715060  12.0"
      ]
     },
     "execution_count": 232,
     "metadata": {},
     "output_type": "execute_result"
    }
   ],
   "source": [
    "pd.DataFrame(np.array([predictions, reals]).T[:20, :])"
   ]
  },
  {
   "attachments": {},
   "cell_type": "markdown",
   "metadata": {},
   "source": [
    "* As we see, predictions are very close to real values"
   ]
  }
 ],
 "metadata": {
  "kernelspec": {
   "display_name": "NY_Taxi",
   "language": "python",
   "name": "python3"
  },
  "language_info": {
   "codemirror_mode": {
    "name": "ipython",
    "version": 3
   },
   "file_extension": ".py",
   "mimetype": "text/x-python",
   "name": "python",
   "nbconvert_exporter": "python",
   "pygments_lexer": "ipython3",
   "version": "3.8.16"
  },
  "orig_nbformat": 4,
  "vscode": {
   "interpreter": {
    "hash": "8f91ce635888be77a20b29349a76a7eab82c17115f5fb039fbae81e822cb28ac"
   }
  }
 },
 "nbformat": 4,
 "nbformat_minor": 2
}
